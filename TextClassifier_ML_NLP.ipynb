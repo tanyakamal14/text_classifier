{
  "nbformat": 4,
  "nbformat_minor": 0,
  "metadata": {
    "colab": {
      "provenance": [],
      "include_colab_link": true
    },
    "kernelspec": {
      "name": "python3",
      "display_name": "Python 3"
    },
    "language_info": {
      "name": "python"
    }
  },
  "cells": [
    {
      "cell_type": "markdown",
      "metadata": {
        "id": "view-in-github",
        "colab_type": "text"
      },
      "source": [
        "<a href=\"https://colab.research.google.com/github/tanyakamal14/text_classifier/blob/main/TextClassifier_ML_NLP.ipynb\" target=\"_parent\"><img src=\"https://colab.research.google.com/assets/colab-badge.svg\" alt=\"Open In Colab\"/></a>"
      ]
    },
    {
      "cell_type": "markdown",
      "source": [
        "**Text Classification using Machine Learning & NLP Techniques**"
      ],
      "metadata": {
        "id": "QN2f6_BEo4Y-"
      }
    },
    {
      "cell_type": "code",
      "source": [
        "import re\n",
        "text = \"i am a data scientist\"\n",
        "pattern = \"an\"\n",
        "\n",
        "match = re.search(pattern, text)\n",
        "if match:\n",
        "  print(\"found a match\", match.group())\n",
        "else:\n",
        "  print(\"No match found\")"
      ],
      "metadata": {
        "colab": {
          "base_uri": "https://localhost:8080/"
        },
        "id": "SCkrUyzlo6Ne",
        "outputId": "2645aa3b-43b8-478d-e663-215b0c866271"
      },
      "execution_count": null,
      "outputs": [
        {
          "output_type": "stream",
          "name": "stdout",
          "text": [
            "No match found\n"
          ]
        }
      ]
    },
    {
      "cell_type": "code",
      "source": [
        "text = \"I am a data analyst\"\n",
        "pattern = \"analyst\"\n",
        "replacement = \"scientist\"\n",
        "\n",
        "new_text = re.sub(pattern, replacement, text)\n",
        "print(\"Original text:\", text)\n",
        "print(\"New text:\", new_text)"
      ],
      "metadata": {
        "colab": {
          "base_uri": "https://localhost:8080/"
        },
        "id": "v1yL4DWIMInP",
        "outputId": "48ae13f1-8086-4dc7-cde7-0887b505dce5"
      },
      "execution_count": null,
      "outputs": [
        {
          "output_type": "stream",
          "name": "stdout",
          "text": [
            "Original text: I am a data analyst\n",
            "New text: I am a data scientist\n"
          ]
        }
      ]
    },
    {
      "cell_type": "code",
      "source": [
        "test1 = \"Hey, this is the best: for ! us;\"\n",
        "print(\"The original string is:\" + test1)\n",
        "res = re.sub(r'[^\\w\\s]', '', test1)\n",
        "print(\"The string after punctuation filter: \" + res)"
      ],
      "metadata": {
        "colab": {
          "base_uri": "https://localhost:8080/"
        },
        "id": "qENKDp5rMMeX",
        "outputId": "7bbc62cc-c8e6-4c36-eb4e-1148f481f3f0"
      },
      "execution_count": null,
      "outputs": [
        {
          "output_type": "stream",
          "name": "stdout",
          "text": [
            "The original string is:Hey, this is the best: for ! us;\n",
            "The string after punctuation filter: Hey this is the best for  us\n"
          ]
        }
      ]
    },
    {
      "cell_type": "code",
      "source": [
        "import nltk\n",
        "nltk.download('punkt_tab')\n",
        "text = \"This is an exmple sentence.Another sentence is here.\"\n",
        "tokens = nltk.word_tokenize(text)\n",
        "print(tokens)"
      ],
      "metadata": {
        "colab": {
          "base_uri": "https://localhost:8080/"
        },
        "id": "75r72NiVMPwE",
        "outputId": "ee0681df-b379-4364-90bf-e94bad8b280a"
      },
      "execution_count": null,
      "outputs": [
        {
          "output_type": "stream",
          "name": "stderr",
          "text": [
            "[nltk_data] Downloading package punkt_tab to /root/nltk_data...\n",
            "[nltk_data]   Unzipping tokenizers/punkt_tab.zip.\n"
          ]
        },
        {
          "output_type": "stream",
          "name": "stdout",
          "text": [
            "['This', 'is', 'an', 'exmple', 'sentence.Another', 'sentence', 'is', 'here', '.']\n"
          ]
        }
      ]
    },
    {
      "cell_type": "code",
      "source": [
        "text = 'This is the first sentence. Thiss is the second sentence.And this is the third sentence.'\n",
        "sentence = nltk.sent_tokenize(text)\n",
        "print(sentence)"
      ],
      "metadata": {
        "colab": {
          "base_uri": "https://localhost:8080/"
        },
        "id": "ZJE-fNGiOI0_",
        "outputId": "afd7ee27-f5a2-495e-d3b6-7bb1795d0e35"
      },
      "execution_count": null,
      "outputs": [
        {
          "output_type": "stream",
          "name": "stdout",
          "text": [
            "['This is the first sentence.', 'Thiss is the second sentence.And this is the third sentence.']\n"
          ]
        }
      ]
    },
    {
      "cell_type": "code",
      "source": [
        "from nltk.util import ngrams\n",
        "text = \"The quick brown fox jumps over the lazy dog.\"\n",
        "tokens = nltk.word_tokenize(text)\n",
        "bigrams = list(ngrams(tokens,2))\n",
        "trigrams = list(ngrams(tokens,3))\n",
        "print(\"Original text:\", text)\n",
        "print(\"Tokens:\", tokens)\n",
        "print(\"Bigrams:\", bigrams)\n",
        "print(\"Trigrams:\", trigrams)"
      ],
      "metadata": {
        "colab": {
          "base_uri": "https://localhost:8080/"
        },
        "id": "Ho7YdMmyPwkZ",
        "outputId": "bc276e3b-0f99-4295-d2dd-d4788b7d4400"
      },
      "execution_count": null,
      "outputs": [
        {
          "output_type": "stream",
          "name": "stdout",
          "text": [
            "Original text: The quick brown fox jumps over the lazy dog.\n",
            "Tokens: ['The', 'quick', 'brown', 'fox', 'jumps', 'over', 'the', 'lazy', 'dog', '.']\n",
            "Bigrams: [('The', 'quick'), ('quick', 'brown'), ('brown', 'fox'), ('fox', 'jumps'), ('jumps', 'over'), ('over', 'the'), ('the', 'lazy'), ('lazy', 'dog'), ('dog', '.')]\n",
            "Trigrams: [('The', 'quick', 'brown'), ('quick', 'brown', 'fox'), ('brown', 'fox', 'jumps'), ('fox', 'jumps', 'over'), ('jumps', 'over', 'the'), ('over', 'the', 'lazy'), ('the', 'lazy', 'dog'), ('lazy', 'dog', '.')]\n"
          ]
        }
      ]
    },
    {
      "cell_type": "code",
      "source": [
        "from nltk.stem import PorterStemmer\n",
        "stemmer = PorterStemmer()\n",
        "word = \"running\"\n",
        "stemmed_word = stemmer.stem(word)\n",
        "print(stemmed_word)"
      ],
      "metadata": {
        "colab": {
          "base_uri": "https://localhost:8080/"
        },
        "id": "KQXkm6UTPzAj",
        "outputId": "caf02570-ae3f-4bb2-91b6-0c92c6a975a6"
      },
      "execution_count": null,
      "outputs": [
        {
          "output_type": "stream",
          "name": "stdout",
          "text": [
            "run\n"
          ]
        }
      ]
    },
    {
      "cell_type": "code",
      "source": [
        "import nltk\n",
        "nltk.download('omw-1.4')\n",
        "from nltk.stem import WordNetLemmatizer\n",
        "nltk.download('wordnet')\n",
        "lemmatizer = WordNetLemmatizer()\n",
        "word = \"running\"\n",
        "lemma_word = lemmatizer.lemmatize(word, pos=\"v\")\n",
        "print(lemma_word)"
      ],
      "metadata": {
        "colab": {
          "base_uri": "https://localhost:8080/"
        },
        "id": "85XPxiZLRDUn",
        "outputId": "32684253-75ae-4f3b-9311-16fe5a827a97"
      },
      "execution_count": null,
      "outputs": [
        {
          "output_type": "stream",
          "name": "stderr",
          "text": [
            "[nltk_data] Downloading package omw-1.4 to /root/nltk_data...\n",
            "[nltk_data] Downloading package wordnet to /root/nltk_data...\n"
          ]
        },
        {
          "output_type": "stream",
          "name": "stdout",
          "text": [
            "run\n"
          ]
        }
      ]
    },
    {
      "cell_type": "code",
      "source": [
        "from nltk.corpus import stopwords\n",
        "nltk.download('stopwords')\n",
        "stop_words = set(stopwords.words('english'))\n",
        "text = \"this is n example sentence that includes stop words\"\n",
        "tokens = nltk.word_tokenize(text)\n",
        "filtered_tokens = [word for word in tokens if not word.lower() in stop_words]\n",
        "filtered_text = ' '.join(filtered_tokens)\n",
        "print(\"data\", filtered_text)"
      ],
      "metadata": {
        "colab": {
          "base_uri": "https://localhost:8080/"
        },
        "id": "-7C6m6gVUOzJ",
        "outputId": "b786b18f-5324-437d-b0aa-cd9bcb0d1d22"
      },
      "execution_count": null,
      "outputs": [
        {
          "output_type": "stream",
          "name": "stdout",
          "text": [
            "data n example sentence includes stop words\n"
          ]
        },
        {
          "output_type": "stream",
          "name": "stderr",
          "text": [
            "[nltk_data] Downloading package stopwords to /root/nltk_data...\n",
            "[nltk_data]   Unzipping corpora/stopwords.zip.\n"
          ]
        }
      ]
    },
    {
      "cell_type": "code",
      "source": [
        "from nltk.tokenize import word_tokenize\n",
        "nltk.download('averaged_perceptron_tagger_eng')\n",
        "text = \"The quick brown fox jumps over the lazy dog.\"\n",
        "tokens = word_tokenize(text)\n",
        "pos_tags = nltk.pos_tag(tokens)\n",
        "print(pos_tags)"
      ],
      "metadata": {
        "colab": {
          "base_uri": "https://localhost:8080/"
        },
        "id": "fhPaHvcXWFJa",
        "outputId": "16b4255d-b766-41ff-b5e2-bea2eb7bfec1"
      },
      "execution_count": null,
      "outputs": [
        {
          "output_type": "stream",
          "name": "stderr",
          "text": [
            "[nltk_data] Downloading package averaged_perceptron_tagger_eng to\n",
            "[nltk_data]     /root/nltk_data...\n",
            "[nltk_data]   Unzipping taggers/averaged_perceptron_tagger_eng.zip.\n"
          ]
        },
        {
          "output_type": "stream",
          "name": "stdout",
          "text": [
            "[('The', 'DT'), ('quick', 'JJ'), ('brown', 'NN'), ('fox', 'NN'), ('jumps', 'VBZ'), ('over', 'IN'), ('the', 'DT'), ('lazy', 'JJ'), ('dog', 'NN'), ('.', '.')]\n"
          ]
        }
      ]
    },
    {
      "cell_type": "code",
      "source": [
        "from nltk import pos_tag, ne_chunk\n",
        "nltk.download('maxent_ne_chunker_tab')\n",
        "nltk.download('words')\n",
        "text = \"Apple is expected to launch its new iphone in September at the steve Jobs Theater in california.\"\n",
        "tokens = word_tokenize(text)\n",
        "tagged = pos_tag(tokens)\n",
        "ne = ne_chunk(tagged)\n",
        "for chunk in ne:\n",
        "  if hasattr(chunk, 'label'):\n",
        "    print(chunk.label(), ' '.join(c[0] for c in chunk))"
      ],
      "metadata": {
        "colab": {
          "base_uri": "https://localhost:8080/"
        },
        "id": "tC1bAIt_WICz",
        "outputId": "5de4f433-b431-490c-d10d-e6615c4dba94"
      },
      "execution_count": null,
      "outputs": [
        {
          "output_type": "stream",
          "name": "stderr",
          "text": [
            "[nltk_data] Downloading package maxent_ne_chunker_tab to\n",
            "[nltk_data]     /root/nltk_data...\n",
            "[nltk_data]   Unzipping chunkers/maxent_ne_chunker_tab.zip.\n",
            "[nltk_data] Downloading package words to /root/nltk_data...\n",
            "[nltk_data]   Unzipping corpora/words.zip.\n"
          ]
        },
        {
          "output_type": "stream",
          "name": "stdout",
          "text": [
            "GPE Apple\n",
            "PERSON Jobs Theater\n"
          ]
        }
      ]
    },
    {
      "cell_type": "code",
      "source": [
        "from nltk.sentiment import SentimentIntensityAnalyzer\n",
        "nltk.download('vader_lexicon')\n",
        "sid = SentimentIntensityAnalyzer()\n",
        "text = \"I hate this product ! it would not work perfectly and i would definately recommend it to anyone.\"\n",
        "scores = sid.polarity_scores(text)\n",
        "print(scores)"
      ],
      "metadata": {
        "colab": {
          "base_uri": "https://localhost:8080/"
        },
        "id": "poiivfKmX5PO",
        "outputId": "7fe61b32-f29b-470d-ad65-686b6cb36daf"
      },
      "execution_count": null,
      "outputs": [
        {
          "output_type": "stream",
          "name": "stdout",
          "text": [
            "{'neg': 0.337, 'neu': 0.549, 'pos': 0.114, 'compound': -0.7059}\n"
          ]
        },
        {
          "output_type": "stream",
          "name": "stderr",
          "text": [
            "[nltk_data] Downloading package vader_lexicon to /root/nltk_data...\n"
          ]
        }
      ]
    },
    {
      "cell_type": "markdown",
      "source": [
        "📌 Project Description:\n",
        "\n",
        "This project focuses on building an NLP-based text classification model to categorize textual data into multiple classes. The project demonstrates a complete NLP pipeline, starting from data preprocessing to training a machine learning model and evaluating its performance"
      ],
      "metadata": {
        "id": "Nea7XWfmpCjz"
      }
    }
  ]
}